{
 "cells": [
  {
   "cell_type": "code",
   "execution_count": 1,
   "metadata": {},
   "outputs": [],
   "source": [
    "%load_ext autoreload\n",
    "%autoreload 2"
   ]
  },
  {
   "cell_type": "code",
   "execution_count": 2,
   "metadata": {},
   "outputs": [
    {
     "name": "stderr",
     "output_type": "stream",
     "text": [
      "/home/saurabh/anaconda3/envs/llm_agent/lib/python3.12/site-packages/langchain_core/_api/deprecation.py:139: LangChainDeprecationWarning: The function `convert_pydantic_to_openai_function` was deprecated in LangChain 0.1.16 and will be removed in 0.3.0. Use langchain_core.utils.function_calling.convert_to_openai_function() instead.\n",
      "  warn_deprecated(\n"
     ]
    }
   ],
   "source": [
    "from config import cfg\n",
    "import functools\n",
    "from typing import List\n",
    "from src import agents, prompts, states, tools, members\n",
    "from IPython.display import Image, display\n",
    "from langgraph.graph import StateGraph, START, END\n",
    "from langchain_core.messages import HumanMessage"
   ]
  },
  {
   "cell_type": "markdown",
   "metadata": {},
   "source": [
    "#### Define Model"
   ]
  },
  {
   "cell_type": "code",
   "execution_count": 3,
   "metadata": {},
   "outputs": [],
   "source": [
    "llm = cfg.llm"
   ]
  },
  {
   "cell_type": "code",
   "execution_count": 4,
   "metadata": {},
   "outputs": [],
   "source": [
    "## Supervisor prompt\n",
    "supervisor_template = prompts.supervisor_template.partial(members = members.members,\n",
    "                                                  options = members.options)\n",
    "\n",
    "## Create agent\n",
    "supervisor_chain = agents.create_supervisor_agent(llm, prompt_template = supervisor_template, \n",
    "                               functions = members.functions,\n",
    "                               function_call= members.function_call)\n",
    "\n",
    "research_agent = agents.create_agent(llm , tools = [tools.tavily_tool], prompt_template=prompts.researcher_template)\n",
    "coder_agent = agents.create_agent(llm, tools=[tools.python_repl_tool], prompt_template=prompts.coder_template)\n",
    "\n",
    "## Create Node\n",
    "research_node = functools.partial(agents.agent_node, name = \"Researcher\", agent = research_agent)\n",
    "coder_node = functools.partial(agents.agent_node, name = \"Coder\", agent = coder_agent)"
   ]
  },
  {
   "cell_type": "code",
   "execution_count": 5,
   "metadata": {},
   "outputs": [],
   "source": [
    "## Test the node\n",
    "# research_node(state= {\"messages\": [HumanMessage(content=\"What is langchain\")]})"
   ]
  },
  {
   "cell_type": "code",
   "execution_count": 6,
   "metadata": {},
   "outputs": [],
   "source": [
    "## Create Graph\n",
    "workflow = StateGraph(states.State)\n",
    "# Add Node\n",
    "workflow.add_node('Researcher', research_node)\n",
    "workflow.add_node('Coder', coder_node)\n",
    "workflow.add_node('supervisor', supervisor_chain)\n",
    "# Add Edge\n",
    "_ = [workflow.add_edge(member, 'supervisor') for member in members.members]\n",
    "conditional_map = {k:k for k in members.options}\n",
    "conditional_map['FINISH'] = END\n",
    "\n",
    "workflow.add_conditional_edges('supervisor',\n",
    "                        lambda x: x['next'],\n",
    "                        conditional_map\n",
    "                        )\n",
    "\n",
    "\n",
    "workflow.add_edge(START, 'supervisor')\n",
    "# Compile Graph\n",
    "graph = workflow.compile()"
   ]
  },
  {
   "cell_type": "code",
   "execution_count": 7,
   "metadata": {},
   "outputs": [
    {
     "data": {
      "image/jpeg": "[encoded data removed]",
      "text/plain": [
       "<IPython.core.display.Image object>"
      ]
     },
     "metadata": {},
     "output_type": "display_data"
    }
   ],
   "source": [
    "# Display graph\n",
    "display(Image(graph.get_graph(xray=True).draw_mermaid_png()))"
   ]
  },
  {
   "cell_type": "markdown",
   "metadata": {},
   "source": [
    "## Outputs"
   ]
  },
  {
   "cell_type": "code",
   "execution_count": 9,
   "metadata": {},
   "outputs": [
    {
     "name": "stdout",
     "output_type": "stream",
     "text": [
      "{'supervisor': {'next': 'Coder'}}\n",
      "----\n",
      "{'Coder': {'messages': [HumanMessage(content='FINAL ANSWER:\\n\\nHere is the Python program to swap two numbers:\\n\\n```python\\ndef swap_numbers(a, b):\\n    a, b = b, a\\n    return a, b\\n\\n# Testing the function\\nx = 5\\ny = 10\\nx, y = swap_numbers(x, y)\\nprint(f\"Swapped values: x = {x}, y = {y}\")\\n```\\n\\nWhen executed, the output is:\\n```\\nSwapped values: x = 10, y = 5\\n```', name='Coder')]}}\n",
      "----\n",
      "{'supervisor': {'next': 'Researcher'}}\n",
      "----\n",
      "{'Researcher': {'messages': [HumanMessage(content='Here is a Python program to swap two numbers:\\n\\n```python\\ndef swap_numbers(a, b):\\n    a, b = b, a\\n    return a, b\\n\\n# Testing the function\\nx = 5\\ny = 10\\nx, y = swap_numbers(x, y)\\nprint(f\"Swapped values: x = {x}, y = {y}\")\\n```\\n\\nWhen you run this code, the output will be:\\n```\\nSwapped values: x = 10, y = 5\\n```\\n\\nThis program defines a function `swap_numbers` that swaps the values of two variables `a` and `b`. It then tests this function by swapping the values of `x` and `y` and printing the swapped values.', name='Researcher')]}}\n",
      "----\n",
      "{'supervisor': {'next': 'FINISH'}}\n",
      "----\n"
     ]
    }
   ],
   "source": [
    "input = \"Generate the python program to swap 2 numbers?\"\n",
    "\n",
    "events = graph.stream(\n",
    "    {\"messages\": [HumanMessage(content=input)]},\n",
    "    {\"recursion_limit\": 20},\n",
    ")\n",
    "\n",
    "for s in events:\n",
    "    print(s)\n",
    "    print(\"----\")"
   ]
  },
  {
   "cell_type": "markdown",
   "metadata": {},
   "source": [
    "## Invoke"
   ]
  },
  {
   "cell_type": "code",
   "execution_count": 10,
   "metadata": {},
   "outputs": [],
   "source": [
    "result = graph.invoke(\n",
    "    {\"messages\": [HumanMessage(content=input)]},\n",
    "    {\"recursion_limit\": 20},\n",
    ")"
   ]
  },
  {
   "cell_type": "code",
   "execution_count": 11,
   "metadata": {},
   "outputs": [
    {
     "name": "stdout",
     "output_type": "stream",
     "text": [
      "The Python program to swap two numbers was successfully executed. Here is the code:\n",
      "\n",
      "```python\n",
      "def swap_numbers(a, b):\n",
      "    print(f\"Original numbers: a = {a}, b = {b}\")\n",
      "    # Swapping using a temporary variable\n",
      "    temp = a\n",
      "    a = b\n",
      "    b = temp\n",
      "    print(f\"Swapped numbers: a = {a}, b = {b}\")\n",
      "    return a, b\n",
      "\n",
      "# Test the function with example values\n",
      "a = 5\n",
      "b = 10\n",
      "swap_numbers(a, b)\n",
      "```\n",
      "\n",
      "Output:\n",
      "```\n",
      "Original numbers: a = 5, b = 10\n",
      "Swapped numbers: a = 10, b = 5\n",
      "```\n",
      "\n",
      "FINAL ANSWER\n"
     ]
    }
   ],
   "source": [
    "print(result['messages'][-1].content)"
   ]
  },
  {
   "cell_type": "code",
   "execution_count": null,
   "metadata": {},
   "outputs": [],
   "source": []
  }
 ],
 "metadata": {
  "kernelspec": {
   "display_name": "Python 3",
   "language": "python",
   "name": "python3"
  },
  "language_info": {
   "codemirror_mode": {
    "name": "ipython",
    "version": 3
   },
   "file_extension": ".py",
   "mimetype": "text/x-python",
   "name": "python",
   "nbconvert_exporter": "python",
   "pygments_lexer": "ipython3",
   "version": "3.12.0"
  }
 },
 "nbformat": 4,
 "nbformat_minor": 4
}
