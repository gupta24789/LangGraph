{
 "cells": [
  {
   "cell_type": "code",
   "execution_count": 1,
   "metadata": {},
   "outputs": [],
   "source": [
    "from graph.graph import app\n",
    "from langchain_core.messages import HumanMessage"
   ]
  },
  {
   "cell_type": "code",
   "execution_count": 2,
   "metadata": {},
   "outputs": [],
   "source": [
    "tweet = \"\"\"\n",
    "Make this tweet better:\"@LangChainAI\n",
    "— newly Tool Calling feature is seriously underrated.\n",
    "\n",
    "After a long wait, it's  here- making the implementation of agents across different models with function calling - super easy.\n",
    "\n",
    "Made a video covering their newest blog post\n",
    "\"\"\""
   ]
  },
  {
   "cell_type": "code",
   "execution_count": 3,
   "metadata": {},
   "outputs": [],
   "source": [
    "state = {\"messages\": [HumanMessage(tweet)]}"
   ]
  },
  {
   "cell_type": "code",
   "execution_count": 4,
   "metadata": {},
   "outputs": [
    {
     "data": {
      "text/plain": [
       "{'messages': [HumanMessage(content='\\nMake this tweet better:\"@LangChainAI\\n— newly Tool Calling feature is seriously underrated.\\n\\nAfter a long wait, it\\'s  here- making the implementation of agents across different models with function calling - super easy.\\n\\nMade a video covering their newest blog post\\n', id='745f5fb9-911b-419c-8ea8-fc717470de7a'),\n",
       "  AIMessage(content='\"Exciting news from @LangChainAI! 🚀 Their new Tool Calling feature is a game-changer, simplifying agent implementation across various models with function calling. Check out my video discussing their latest blog post! #AI #Tech\"', response_metadata={'token_usage': {'completion_tokens': 50, 'prompt_tokens': 109, 'total_tokens': 159}, 'model_name': 'gpt-3.5-turbo-0125', 'system_fingerprint': None, 'finish_reason': 'stop', 'logprobs': None}, id='run-1c5a39b7-07d6-475c-ba20-8ab70c629c1f-0'),\n",
       "  HumanMessage(content='**Critique:**\\nYour tweet is informative but lacks excitement and engagement. It could benefit from a more captivating introduction to grab the audience\\'s attention. Additionally, the use of emojis and relevant hashtags could help increase visibility and engagement with the tweet.\\n\\n**Recommendations:**\\n1. **Engagement:** Start the tweet with a more engaging and attention-grabbing statement. For example, \"🔥 Big news alert! @LangChainAI has just dropped a game-changing feature...\"\\n   \\n2. **Clarity:** Clearly highlight the benefits of the Tool Calling feature in a concise and compelling manner. Focus on how it can benefit users or the industry.\\n   \\n3. **Visuals:** Consider adding a visual element to the tweet, such as a screenshot or snippet from the video, to make it more visually appealing and increase engagement.\\n   \\n4. **Hashtags:** Incorporate relevant hashtags like #AI and #Tech to reach a broader audience interested in these topics.\\n   \\n5. **Length:** Keep the tweet concise and to the point while ensuring all key information is included. Aim for a length that is easily digestible for users scrolling through their feed.\\n\\nBy implementing these recommendations, your tweet can become more engaging, informative, and likely to attract a larger audience.', id='cf7f392e-b705-4102-aaca-48deb70f39d0'),\n",
       "  AIMessage(content='\"🔥 Exciting news alert! @LangChainAI just unveiled their groundbreaking Tool Calling feature, revolutionizing agent implementation across models with ease. Dive into my video unpacking their latest blog post! #AI #Tech\"', response_metadata={'token_usage': {'completion_tokens': 46, 'prompt_tokens': 421, 'total_tokens': 467}, 'model_name': 'gpt-3.5-turbo-0125', 'system_fingerprint': None, 'finish_reason': 'stop', 'logprobs': None}, id='run-3396939f-1cb0-4c6c-9ad9-0cc62d5f14b5-0'),\n",
       "  HumanMessage(content='This revised tweet is more engaging and attention-grabbing with the use of emojis and an exciting introduction. It clearly highlights the significance of the Tool Calling feature and encourages the audience to check out the video for more information. The inclusion of relevant hashtags like #AI and #Tech will help reach a broader audience interested in these topics. \\n\\nConsider adding a visual element, such as a thumbnail from the video, to make the tweet even more visually appealing and increase engagement. Additionally, ensure the tweet is concise and to the point while maintaining a conversational and engaging tone. \\n\\nOverall, this tweet is well-crafted to generate interest and drive engagement with your content.', id='cdf54c80-9284-44c1-a6ff-15d5857ffa7f'),\n",
       "  AIMessage(content='\"🔥 Exciting news alert! @LangChainAI just unveiled their groundbreaking Tool Calling feature, revolutionizing agent implementation across models with ease. Dive into my video unpacking their latest blog post! #AI #Tech 🚀\"', response_metadata={'token_usage': {'completion_tokens': 49, 'prompt_tokens': 607, 'total_tokens': 656}, 'model_name': 'gpt-3.5-turbo-0125', 'system_fingerprint': None, 'finish_reason': 'stop', 'logprobs': None}, id='run-6d072d0a-3fc2-498f-a557-0d41334b3a66-0'),\n",
       "  HumanMessage(content=\"Great job on incorporating the recommendations! This revised tweet is engaging, concise, and visually appealing with the use of emojis and relevant hashtags. The addition of the rocket emoji at the end adds a nice touch of excitement and emphasis to the tweet. \\n\\nTo further enhance the tweet's impact, you may consider adding a call-to-action encouraging users to like, retweet, or share the video for increased visibility. This can help drive more engagement and interaction with your content. \\n\\nOverall, this tweet effectively captures attention, conveys the key message, and encourages audience participation. Keep up the good work!\", id='b517b9e7-aa47-49ad-96e8-1e92fc3e7e60'),\n",
       "  AIMessage(content='\"🔥 Exciting news alert! @LangChainAI just unveiled their groundbreaking Tool Calling feature, revolutionizing agent implementation across models with ease. Dive into my video unpacking their latest blog post! #AI #Tech 🚀 Don\\'t forget to like, retweet, and share for more tech updates!\"', response_metadata={'token_usage': {'completion_tokens': 64, 'prompt_tokens': 783, 'total_tokens': 847}, 'model_name': 'gpt-3.5-turbo-0125', 'system_fingerprint': None, 'finish_reason': 'stop', 'logprobs': None}, id='run-2cea234c-0376-4c9f-ac78-a161c6b577a3-0')]}"
      ]
     },
     "execution_count": 4,
     "metadata": {},
     "output_type": "execute_result"
    }
   ],
   "source": [
    "app.invoke(state)"
   ]
  },
  {
   "cell_type": "code",
   "execution_count": null,
   "metadata": {},
   "outputs": [],
   "source": []
  }
 ],
 "metadata": {
  "kernelspec": {
   "display_name": "llm_agent",
   "language": "python",
   "name": "python3"
  },
  "language_info": {
   "codemirror_mode": {
    "name": "ipython",
    "version": 3
   },
   "file_extension": ".py",
   "mimetype": "text/x-python",
   "name": "python",
   "nbconvert_exporter": "python",
   "pygments_lexer": "ipython3",
   "version": "3.12.0"
  }
 },
 "nbformat": 4,
 "nbformat_minor": 2
}
