{
 "cells": [
  {
   "cell_type": "markdown",
   "metadata": {},
   "source": [
    "## Node has tool and also want the response in json"
   ]
  },
  {
   "cell_type": "code",
   "execution_count": 1,
   "metadata": {},
   "outputs": [
    {
     "data": {
      "text/plain": [
       "True"
      ]
     },
     "execution_count": 1,
     "metadata": {},
     "output_type": "execute_result"
    }
   ],
   "source": [
    "from dotenv import load_dotenv, find_dotenv\n",
    "load_dotenv()"
   ]
  },
  {
   "cell_type": "code",
   "execution_count": 2,
   "metadata": {},
   "outputs": [],
   "source": [
    "from langchain.prompts import ChatPromptTemplate, MessagesPlaceholder\n",
    "from langchain_core.messages import HumanMessage, ToolMessage, BaseMessage, AIMessage\n",
    "from langgraph.graph import START, END, StateGraph, add_messages\n",
    "from langchain_openai import ChatOpenAI\n",
    "from typing import Literal, Annotated, Sequence, List, TypedDict\n",
    "from langchain.pydantic_v1 import BaseModel, Field\n",
    "from langchain_community.tools.tavily_search import TavilySearchResults\n",
    "from langchain_core.runnables import RunnableConfig\n",
    "from langgraph.prebuilt import ToolNode\n",
    "from IPython.display import Image, display\n",
    "from langchain.tools import tool"
   ]
  },
  {
   "cell_type": "markdown",
   "metadata": {},
   "source": [
    "## Define Model"
   ]
  },
  {
   "cell_type": "code",
   "execution_count": 3,
   "metadata": {},
   "outputs": [],
   "source": [
    "llm = ChatOpenAI(model = \"gpt-4o-mini\", temperature= 0)"
   ]
  },
  {
   "cell_type": "markdown",
   "metadata": {},
   "source": [
    "## Define State"
   ]
  },
  {
   "cell_type": "code",
   "execution_count": 4,
   "metadata": {},
   "outputs": [],
   "source": [
    "class State(TypedDict):\n",
    "    messages : Annotated[Sequence[BaseMessage], add_messages]"
   ]
  },
  {
   "cell_type": "markdown",
   "metadata": {},
   "source": [
    "## Define Tools"
   ]
  },
  {
   "cell_type": "code",
   "execution_count": 5,
   "metadata": {},
   "outputs": [],
   "source": [
    "tavily_tool = TavilySearchResults(max_results=2)\n",
    "\n",
    "class Response(BaseModel):\n",
    "    location : str = Field(\"location\")\n",
    "    temperature : float = Field(\"temperature in the location\")\n",
    "    unit : Literal[\"celsius\", \"fahrenheit\"] = Field(description= \"unit of temperature. C will be used for celsius abd F will be used for fahrenheit\")\n",
    "\n",
    "@tool\n",
    "def agent_response(Response):\n",
    "    \"Format the response\"\n",
    "    return Response"
   ]
  },
  {
   "cell_type": "markdown",
   "metadata": {},
   "source": [
    "## Define Chain"
   ]
  },
  {
   "cell_type": "code",
   "execution_count": 6,
   "metadata": {},
   "outputs": [],
   "source": [
    "prompt = ChatPromptTemplate.from_messages([\n",
    "    ('system', 'You are helpful assistant. Provide the current location, temperature and unit in the required format'),\n",
    "    MessagesPlaceholder(variable_name='messages')\n",
    "    \n",
    "])\n",
    "\n",
    "chain = prompt | llm.bind_tools(tools=[agent_response, tavily_tool])"
   ]
  },
  {
   "cell_type": "markdown",
   "metadata": {},
   "source": [
    "## Define Nodes"
   ]
  },
  {
   "cell_type": "code",
   "execution_count": 7,
   "metadata": {},
   "outputs": [],
   "source": [
    "def agent_node(state : State):\n",
    "    res = chain.invoke(state)\n",
    "    return {\"messages\": res}\n",
    "\n",
    "tool_node = ToolNode(tools= [tavily_tool, agent_response])"
   ]
  },
  {
   "cell_type": "markdown",
   "metadata": {},
   "source": [
    "## Const"
   ]
  },
  {
   "cell_type": "code",
   "execution_count": 8,
   "metadata": {},
   "outputs": [],
   "source": [
    "AGENT = \"agent\"\n",
    "TOOL_NODE = \"tool_node\""
   ]
  },
  {
   "cell_type": "markdown",
   "metadata": {},
   "source": [
    "## Create Graph"
   ]
  },
  {
   "cell_type": "code",
   "execution_count": 9,
   "metadata": {},
   "outputs": [],
   "source": [
    "def should_continue(state):\n",
    "    count_tool_calls = sum(isinstance(message, ToolMessage) for message in state['messages'])\n",
    "    print(f\"count tool called : {count_tool_calls}\")\n",
    "    \n",
    "    if count_tool_calls>=5:\n",
    "        return \"__end__\"\n",
    "    \n",
    "    last_message = state['messages'][-1]\n",
    "    if isinstance(last_message, AIMessage) and last_message.tool_calls[0]['name'] == 'agent_response':\n",
    "        return \"__end__\"\n",
    "\n",
    "    return \"continue\""
   ]
  },
  {
   "cell_type": "code",
   "execution_count": 10,
   "metadata": {},
   "outputs": [],
   "source": [
    "workflow = StateGraph(State)\n",
    "workflow.add_node(AGENT, agent_node)\n",
    "workflow.add_node(TOOL_NODE, tool_node)\n",
    "workflow.add_conditional_edges(AGENT, should_continue,{\n",
    "    \"continue\": TOOL_NODE,\n",
    "    \"__end__\": END\n",
    "})\n",
    "workflow.add_edge(TOOL_NODE, AGENT)\n",
    "workflow.set_entry_point(AGENT)\n",
    "graph = workflow.compile()"
   ]
  },
  {
   "cell_type": "code",
   "execution_count": 11,
   "metadata": {},
   "outputs": [
    {
     "data": {
      "image/jpeg": "[encoded data removed]",
      "text/plain": [
       "<IPython.core.display.Image object>"
      ]
     },
     "metadata": {},
     "output_type": "display_data"
    }
   ],
   "source": [
    "display(Image(graph.get_graph().draw_mermaid_png()))"
   ]
  },
  {
   "cell_type": "code",
   "execution_count": 12,
   "metadata": {},
   "outputs": [],
   "source": [
    "state = {\n",
    "    \"messages\": [HumanMessage(\"What is the current temperature of Noida?\")]\n",
    "}\n",
    "\n",
    "config = RunnableConfig(recursion_limit = 10)"
   ]
  },
  {
   "cell_type": "code",
   "execution_count": 13,
   "metadata": {},
   "outputs": [
    {
     "name": "stdout",
     "output_type": "stream",
     "text": [
      "count tool called : 0\n",
      "count tool called : 1\n",
      "count tool called : 2\n"
     ]
    },
    {
     "data": {
      "text/plain": [
       "{'messages': [HumanMessage(content='What is the current temperature of Noida?', id='bc248e86-026b-487e-9091-4a0ce6e1ad34'),\n",
       "  AIMessage(content='', additional_kwargs={'tool_calls': [{'id': 'call_4Xq4VJVHgdNeqZkzlfqicsFA', 'function': {'arguments': '{\"query\":\"current temperature in Noida\"}', 'name': 'tavily_search_results_json'}, 'type': 'function'}]}, response_metadata={'token_usage': {'completion_tokens': 22, 'prompt_tokens': 124, 'total_tokens': 146}, 'model_name': 'gpt-4o-mini', 'system_fingerprint': 'fp_8b761cb050', 'finish_reason': 'tool_calls', 'logprobs': None}, id='run-7e52558e-3218-4344-81ce-ec1f7ce818f9-0', tool_calls=[{'name': 'tavily_search_results_json', 'args': {'query': 'current temperature in Noida'}, 'id': 'call_4Xq4VJVHgdNeqZkzlfqicsFA'}]),\n",
       "  ToolMessage(content='[{\"url\": \"https://www.accuweather.com/en/in/noida/3146227/weather-forecast/3146227\", \"content\": \"Get the current weather forecast for Noida, Uttar Pradesh, India and access temperature, wind, humidity, UV index, cloudiness data and more.\"}, {\"url\": \"https://www.accuweather.com/en/in/noida/3146227/current-weather/3146227\", \"content\": \"Get the latest weather information for Noida, Uttar Pradesh, India, including temperature, humidity, wind, pressure, and alerts. See hourly, daily, and monthly forecasts, as well as radar and maps.\"}]', name='tavily_search_results_json', id='26f3ca88-0ede-465d-91b9-88c68b5134f4', tool_call_id='call_4Xq4VJVHgdNeqZkzlfqicsFA'),\n",
       "  AIMessage(content='', additional_kwargs={'tool_calls': [{'id': 'call_uQD4Dd9YH9O9OZlh2xrmd9y5', 'function': {'arguments': '{\"query\":\"current weather Noida\"}', 'name': 'tavily_search_results_json'}, 'type': 'function'}]}, response_metadata={'token_usage': {'completion_tokens': 21, 'prompt_tokens': 294, 'total_tokens': 315}, 'model_name': 'gpt-4o-mini', 'system_fingerprint': 'fp_8b761cb050', 'finish_reason': 'tool_calls', 'logprobs': None}, id='run-e5c8c9a4-e935-4367-92fc-4ef5ee61aadf-0', tool_calls=[{'name': 'tavily_search_results_json', 'args': {'query': 'current weather Noida'}, 'id': 'call_uQD4Dd9YH9O9OZlh2xrmd9y5'}]),\n",
       "  ToolMessage(content='[{\"url\": \"https://www.weatherapi.com/\", \"content\": \"{\\'location\\': {\\'name\\': \\'Noida\\', \\'region\\': \\'Uttar Pradesh\\', \\'country\\': \\'India\\', \\'lat\\': 28.57, \\'lon\\': 77.32, \\'tz_id\\': \\'Asia/Kolkata\\', \\'localtime_epoch\\': 1721582095, \\'localtime\\': \\'2024-07-21 22:44\\'}, \\'current\\': {\\'last_updated_epoch\\': 1721581200, \\'last_updated\\': \\'2024-07-21 22:30\\', \\'temp_c\\': 34.3, \\'temp_f\\': 93.7, \\'is_day\\': 0, \\'condition\\': {\\'text\\': \\'Clear\\', \\'icon\\': \\'//cdn.weatherapi.com/weather/64x64/night/113.png\\', \\'code\\': 1000}, \\'wind_mph\\': 7.4, \\'wind_kph\\': 11.9, \\'wind_degree\\': 104, \\'wind_dir\\': \\'ESE\\', \\'pressure_mb\\': 997.0, \\'pressure_in\\': 29.43, \\'precip_mm\\': 0.0, \\'precip_in\\': 0.0, \\'humidity\\': 54, \\'cloud\\': 23, \\'feelslike_c\\': 40.8, \\'feelslike_f\\': 105.4, \\'windchill_c\\': 34.3, \\'windchill_f\\': 93.7, \\'heatindex_c\\': 40.8, \\'heatindex_f\\': 105.4, \\'dewpoint_c\\': 23.6, \\'dewpoint_f\\': 74.5, \\'vis_km\\': 10.0, \\'vis_miles\\': 6.0, \\'uv\\': 1.0, \\'gust_mph\\': 10.4, \\'gust_kph\\': 16.7}}\"}, {\"url\": \"https://world-weather.info/forecast/india/noida/july-2024/\", \"content\": \"Extended weather forecast in Noida. Hourly Week 10 days 14 days 30 days Year. Detailed \\\\u26a1 Noida Weather Forecast for July 2024 - day/night \\\\ud83c\\\\udf21\\\\ufe0f temperatures, precipitations - World-Weather.info.\"}]', name='tavily_search_results_json', id='2b113a3b-3222-4731-b4bd-5a3e0c83849a', tool_call_id='call_uQD4Dd9YH9O9OZlh2xrmd9y5'),\n",
       "  AIMessage(content='', additional_kwargs={'tool_calls': [{'id': 'call_wMCh5ktbaf4IAoYMqjToH6kz', 'function': {'arguments': '{\"Response\":{\"location\":\"Noida, Uttar Pradesh, India\",\"temperature\":34.3,\"unit\":\"C\"}}', 'name': 'agent_response'}, 'type': 'function'}]}, response_metadata={'token_usage': {'completion_tokens': 32, 'prompt_tokens': 814, 'total_tokens': 846}, 'model_name': 'gpt-4o-mini', 'system_fingerprint': 'fp_661538dc1f', 'finish_reason': 'tool_calls', 'logprobs': None}, id='run-8b25854d-af4e-4aa3-bc81-a03dfb77e345-0', tool_calls=[{'name': 'agent_response', 'args': {'Response': {'location': 'Noida, Uttar Pradesh, India', 'temperature': 34.3, 'unit': 'C'}}, 'id': 'call_wMCh5ktbaf4IAoYMqjToH6kz'}])]}"
      ]
     },
     "execution_count": 13,
     "metadata": {},
     "output_type": "execute_result"
    }
   ],
   "source": [
    "result = graph.invoke(state, config= config)\n",
    "result"
   ]
  },
  {
   "cell_type": "code",
   "execution_count": 14,
   "metadata": {},
   "outputs": [
    {
     "data": {
      "text/plain": [
       "{'location': 'Noida, Uttar Pradesh, India', 'temperature': 34.3, 'unit': 'C'}"
      ]
     },
     "execution_count": 14,
     "metadata": {},
     "output_type": "execute_result"
    }
   ],
   "source": [
    "response = result['messages'][-1].tool_calls[0]['args']['Response']\n",
    "response"
   ]
  },
  {
   "cell_type": "code",
   "execution_count": null,
   "metadata": {},
   "outputs": [],
   "source": []
  }
 ],
 "metadata": {
  "kernelspec": {
   "display_name": "llm_agent",
   "language": "python",
   "name": "python3"
  },
  "language_info": {
   "codemirror_mode": {
    "name": "ipython",
    "version": 3
   },
   "file_extension": ".py",
   "mimetype": "text/x-python",
   "name": "python",
   "nbconvert_exporter": "python",
   "pygments_lexer": "ipython3",
   "version": "3.12.0"
  }
 },
 "nbformat": 4,
 "nbformat_minor": 2
}
