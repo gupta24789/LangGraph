{
 "cells": [
  {
   "cell_type": "code",
   "execution_count": 1,
   "metadata": {},
   "outputs": [],
   "source": [
    "from graph.graph import app\n",
    "from langchain_core.messages import HumanMessage"
   ]
  },
  {
   "cell_type": "code",
   "execution_count": 2,
   "metadata": {},
   "outputs": [],
   "source": [
    "tweet = \"\"\"what is the weather in sf? List it and then Triple it \n",
    "\"\"\""
   ]
  },
  {
   "cell_type": "code",
   "execution_count": 3,
   "metadata": {},
   "outputs": [],
   "source": [
    "state = {\"input\": [HumanMessage(tweet)]}"
   ]
  },
  {
   "cell_type": "code",
   "execution_count": 4,
   "metadata": {},
   "outputs": [
    {
     "name": "stdout",
     "output_type": "stream",
     "text": [
      "{'input': [HumanMessage(content='what is the weather in sf? List it and then Triple it \\n')], 'agent_outcome': AgentFinish(return_values={'output': 'The current temperature in San Francisco is approximately 13.8°C, and tripling it gives 41.4°C.'}, log='I now know the final answer.  \\nFinal Answer: The current temperature in San Francisco is approximately 13.8°C, and tripling it gives 41.4°C.'), 'intermediate_steps': [(AgentAction(tool='tavily_search_results_json', tool_input='current weather in San Francisco', log='I need to find the current weather in San Francisco and then triple the temperature value. \\nAction: tavily_search_results_json\\nAction Input: \"current weather in San Francisco\"'), '[{\\'url\\': \\'https://www.weatherapi.com/\\', \\'content\\': \"{\\'location\\': {\\'name\\': \\'San Francisco\\', \\'region\\': \\'California\\', \\'country\\': \\'United States of America\\', \\'lat\\': 37.78, \\'lon\\': -122.42, \\'tz_id\\': \\'America/Los_Angeles\\', \\'localtime_epoch\\': 1721568119, \\'localtime\\': \\'2024-07-21 6:21\\'}, \\'current\\': {\\'last_updated_epoch\\': 1721567700, \\'last_updated\\': \\'2024-07-21 06:15\\', \\'temp_c\\': 13.8, \\'temp_f\\': 56.9, \\'is_day\\': 1, \\'condition\\': {\\'text\\': \\'Patchy rain nearby\\', \\'icon\\': \\'//cdn.weatherapi.com/weather/64x64/day/176.png\\', \\'code\\': 1063}, \\'wind_mph\\': 7.8, \\'wind_kph\\': 12.6, \\'wind_degree\\': 254, \\'wind_dir\\': \\'WSW\\', \\'pressure_mb\\': 1014.0, \\'pressure_in\\': 29.94, \\'precip_mm\\': 0.01, \\'precip_in\\': 0.0, \\'humidity\\': 90, \\'cloud\\': 52, \\'feelslike_c\\': 12.8, \\'feelslike_f\\': 55.1, \\'windchill_c\\': 12.8, \\'windchill_f\\': 55.1, \\'heatindex_c\\': 13.8, \\'heatindex_f\\': 56.9, \\'dewpoint_c\\': 12.1, \\'dewpoint_f\\': 53.8, \\'vis_km\\': 10.0, \\'vis_miles\\': 6.0, \\'uv\\': 1.0, \\'gust_mph\\': 11.1, \\'gust_kph\\': 17.8}}\"}, {\\'url\\': \\'https://forecast.weather.gov/MapClick.php?lat=37.7529881&lon=-122.4174306\\', \\'content\\': \\'Current conditions at SAN FRANCISCO DOWNTOWN (SFOC1) Lat: 37.77056°NLon: 122.42694°WElev: 150.0ft. NA. ... 2024-6pm PDT Jul 21, 2024 . Forecast Discussion . Additional Resources. ... National Weather Service; San Francisco Bay Area, CA; 21 Grace Hopper Ave, Stop 5; Monterey, CA 93943-5505; Comments? Questions?\\'}, {\\'url\\': \\'https://www.wunderground.com/hourly/us/ca/fillmore-district/94102/date/2024-07-21\\', \\'content\\': \\'Current Weather for Popular Cities . San Francisco, CA warning 56 ° F Partly Cloudy; Manhattan, NY 76 ° F Cloudy; Schiller Park, IL (60176) 70 ° F Partly Cloudy; Boston, MA 74 ° F Partly ...\\'}, {\\'url\\': \\'https://forecast.weather.gov/zipcity.php?inputstring=San+Francisco,CA\\', \\'content\\': \\'Current conditions at SAN FRANCISCO DOWNTOWN (SFOC1) Lat: 37.77056°NLon: 122.42694°WElev: 150.0ft. NA. 59°F. 15°C. ... 2024 . Forecast Discussion . Additional Resources. Radar & Satellite Image. Hourly Weather Forecast. National Digital Forecast Database ... National Weather Service; San Francisco Bay Area, CA; 21 Grace Hopper Ave, Stop 5 ...\\'}, {\\'url\\': \\'https://www.timeanddate.com/weather/usa/san-francisco/hourly\\', \\'content\\': \\'Hour-by-Hour Forecast for San Francisco, California, USA. Weather Today Weather Hourly 14 Day Forecast Yesterday/Past Weather Climate (Averages) Currently: 64 °F. Passing clouds. (Weather station: San Francisco International Airport, USA). See more current weather.\\'}]'), (AgentAction(tool='triple', tool_input='13.8', log='The current temperature in San Francisco is approximately 13.8°C (56.9°F). Now, I will triple the temperature in Celsius.\\n\\nAction: triple  \\nAction Input: 13.8  '), '41.400000000000006')]}\n"
     ]
    }
   ],
   "source": [
    "response = app.invoke(state)\n",
    "print(response)"
   ]
  },
  {
   "cell_type": "code",
   "execution_count": null,
   "metadata": {},
   "outputs": [],
   "source": []
  }
 ],
 "metadata": {
  "kernelspec": {
   "display_name": "llm_agent",
   "language": "python",
   "name": "python3"
  },
  "language_info": {
   "codemirror_mode": {
    "name": "ipython",
    "version": 3
   },
   "file_extension": ".py",
   "mimetype": "text/x-python",
   "name": "python",
   "nbconvert_exporter": "python",
   "pygments_lexer": "ipython3",
   "version": "3.12.0"
  }
 },
 "nbformat": 4,
 "nbformat_minor": 2
}
